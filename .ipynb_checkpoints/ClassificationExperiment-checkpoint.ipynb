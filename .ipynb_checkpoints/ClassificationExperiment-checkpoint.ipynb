{
 "cells": [
  {
   "cell_type": "code",
   "execution_count": 24,
   "metadata": {
    "collapsed": true
   },
   "outputs": [],
   "source": [
    "# created by Swain, 2017-12-13, 17:42\n",
    "\n",
    "import numpy\n",
    "import matplotlib.pyplot as plot\n",
    "from numpy import random\n",
    "from sklearn.datasets import load_svmlight_file\n",
    "from sklearn.model_selection import train_test_split\n",
    "\n",
    "#load housing_scale dataset\n",
    "path = './australian_scale'\n",
    "data = load_svmlight_file(path)\n",
    "X = data[0]\n",
    "X = X.toarray()\n",
    "y = data[1]\n",
    "\n",
    "#add a constant-bias-column to X\n",
    "col = numpy.ones((X.shape[0]))\n",
    "X = numpy.column_stack((X, col))\n",
    "\n",
    "#create weight array with initial values in normal distribution\n",
    "d = X.shape[1]\n",
    "W_init = numpy.random.normal(size=d)"
   ]
  },
  {
   "cell_type": "code",
   "execution_count": 25,
   "metadata": {
    "collapsed": true
   },
   "outputs": [],
   "source": [
    "#split dataset into training data and test data\n",
    "X_train, X_vali, y_train, y_vali = train_test_split(X, y, test_size=0.2, random_state=1)"
   ]
  },
  {
   "cell_type": "markdown",
   "metadata": {},
   "source": [
    "Loss function(Hinge loss)\n",
    "$$L = \\frac{\\lambda }{2}||W||^2+\\frac{1}{n}\\sum_{i=1}^{n}\\; max\\left (0,1- y_{i} (W^{T}x_{i}+b) \\right) $$\n",
    "The gradient of the loss fuction\n",
    "$$G_W = \\left\\{\\begin{matrix}\n",
    "\\lambda W & y_{i}(W^{T}x_{i}+b)\\geq 1\n",
    "\\\\ \n",
    "\\lambda W+\\frac{1}{n}\\sum_{i=1}^{n}- y_{i}x_{i} & y_{i}(W^{T}x_{i}+b)< 1\n",
    "\\end{matrix}\\right.$$\n",
    "\n",
    "$$G_b = \\left\\{\\begin{matrix}\n",
    "0 & y_{i}(W^{T}x_{i}+b)\\geq 1\n",
    "\\\\ \n",
    "\\frac{1}{n}\\sum_{i=1}^{n}-y_{i} & y_{i}(W^{T}x_{i}+b)< 1\n",
    "\\end{matrix}\\right.$$"
   ]
  },
  {
   "cell_type": "code",
   "execution_count": 26,
   "metadata": {
    "collapsed": true
   },
   "outputs": [],
   "source": [
    "#define loss function (hinge loss)\n",
    "def loss(X, W, y, _lambda):\n",
    "    y_predict = numpy.dot(X, W)\n",
    "    diff = numpy.ones(y.shape[0]) - y * y_predict\n",
    "    W_0 = W.copy()\n",
    "    W_0[len(W)-1] = 0\n",
    "    return numpy.sum(diff) / X.shape[0] + numpy.dot(W_0,W_0.T) / 2 * _lambda\n",
    "\n",
    "#define gradient function\n",
    "def grad(X, W, y, _lambda):\n",
    "    y_predict = numpy.dot(X, W)\n",
    "    diff = numpy.ones(y.shape[0]) - y * y_predict\n",
    "    y[diff <= 0] = 0\n",
    "    W_0 = W.copy()\n",
    "    W_0[len(W)-1] = 0\n",
    "    return -numpy.dot(y,X) / X.shape[0] + W_0 * _lambda\n",
    "\n",
    "#define accuracy function\n",
    "def accuracy(X, W, y):\n",
    "    y_predict = numpy.dot(X, W)\n",
    "    count = numpy.sum(y_predict * y > 0)\n",
    "    return count / X.shape[0]"
   ]
  },
  {
   "cell_type": "code",
   "execution_count": 39,
   "metadata": {},
   "outputs": [],
   "source": [
    "#parameters: learning rate and #iteration\n",
    "lrs = [0.1]\n",
    "iteration = 100\n",
    "lambdas = [0.05, 0.1, 0.2, 0.4]\n",
    "\n",
    "#used to save results\n",
    "loss_train = []\n",
    "loss_vali = []\n",
    "_accuracy = []\n",
    "\n",
    "for i in range(0, len(lambdas)):\n",
    "    for j in range(0, len(lrs)):\n",
    "        #reset W\n",
    "        W = W_init\n",
    "        loss_train.append(numpy.zeros(iteration))\n",
    "        loss_vali.append(numpy.zeros(iteration))\n",
    "        _accuracy.append(numpy.zeros(iteration))\n",
    "        for k in range(0, iteration):\n",
    "            #calculate loss on both training and validation datasets\n",
    "            loss_train[i * len(lrs) + j][k] = loss(X_train, W, y_train, lambdas[i])\n",
    "            loss_vali[i * len(lrs) + j][k] = loss(X_vali, W, y_vali, lambdas[i])\n",
    "            _accuracy[i * len(lrs) + j][k] = accuracy(X_vali, W, y_vali)\n",
    "            #update weight according to gradient\n",
    "            W = W - grad(X_train, W, y_train, lambdas[i]) * lrs[j]"
   ]
  },
  {
   "cell_type": "code",
   "execution_count": 41,
   "metadata": {},
   "outputs": [
    {
     "data": {
      "image/png": "[encoded data removed]",
      "text/plain": [
       "<matplotlib.figure.Figure at 0x7f49370a0390>"
      ]
     },
     "metadata": {},
     "output_type": "display_data"
    }
   ],
   "source": [
    "for i in range(0, len(lambdas)):\n",
    "    for j in range(0, len(lrs)):\n",
    "        plot.plot(loss_train[i * len(lrs) + j], label=\"lambda = \" + str(lambdas[i]) \n",
    "                  + \", lr = \" + str(lrs[j]))\n",
    "plot.legend()\n",
    "plot.xlabel(\"Iteration\")\n",
    "plot.ylabel(\"Training Loss\")\n",
    "plot.title(\"Linear Classification\")\n",
    "plot.show()"
   ]
  },
  {
   "cell_type": "code",
   "execution_count": null,
   "metadata": {
    "collapsed": true
   },
   "outputs": [],
   "source": []
  }
 ],
 "metadata": {
  "kernelspec": {
   "display_name": "Python 3",
   "language": "python",
   "name": "python3"
  },
  "language_info": {
   "codemirror_mode": {
    "name": "ipython",
    "version": 3
   },
   "file_extension": ".py",
   "mimetype": "text/x-python",
   "name": "python",
   "nbconvert_exporter": "python",
   "pygments_lexer": "ipython3",
   "version": "3.6.3"
  }
 },
 "nbformat": 4,
 "nbformat_minor": 2
}
